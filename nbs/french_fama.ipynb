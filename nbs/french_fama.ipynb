{
 "cells": [
  {
   "cell_type": "code",
   "execution_count": null,
   "metadata": {},
   "outputs": [],
   "source": [
    "import requests\n",
    "import pandas as pd\n",
    "import zipfile\n",
    "import io"
   ]
  },
  {
   "cell_type": "code",
   "execution_count": null,
   "metadata": {},
   "outputs": [],
   "source": [
    "config = {\n",
    "    \"daily_url\": \"https://mba.tuck.dartmouth.edu/pages/faculty/ken.french/ftp/F-F_Research_Data_5_Factors_2x3_daily_CSV.zip\",\n",
    "    \"monthly_url\": \"https://mba.tuck.dartmouth.edu/pages/faculty/ken.french/ftp/F-F_Research_Data_5_Factors_2x3_CSV.zip\",\n",
    "}"
   ]
  },
  {
   "cell_type": "code",
   "execution_count": null,
   "metadata": {},
   "outputs": [],
   "source": [
    "data = requests.get(config[\"daily_url\"])\n",
    "zf = zipfile.ZipFile(io.BytesIO(data.content)) \n",
    "df = pd.read_csv(zf.open(zf.filelist[0].filename), skiprows=3)\n",
    "df = df.rename(columns={'Unnamed: 0':'date'})\n",
    "df['date'] = pd.to_datetime(df['date'], format='%Y%m%d').dt.strftime('%Y-%m-%d')"
   ]
  },
  {
   "cell_type": "code",
   "execution_count": null,
   "metadata": {},
   "outputs": [],
   "source": [
    "data = requests.get(config[\"monthly_url\"])\n",
    "zf = zipfile.ZipFile(io.BytesIO(data.content)) \n",
    "df = pd.read_csv(zf.open(zf.filelist[0].filename), skiprows=3)\n",
    "df = df.rename(columns={'Unnamed: 0':'date'})\n",
    "last_entry = df.loc[df.date == ' Annual Factors: January-December '].index.values[0]\n",
    "df = df.iloc[0:last_entry]\n",
    "df['date'] = (pd.to_datetime(df['date'], format='%Y%m')  + pd.offsets.MonthEnd()).dt.strftime('%Y-%m-%d')\n"
   ]
  },
  {
   "cell_type": "code",
   "execution_count": null,
   "metadata": {},
   "outputs": [],
   "source": []
  }
 ],
 "metadata": {
  "kernelspec": {
   "display_name": "timeseries-pA2pD2pn-py3.9",
   "language": "python",
   "name": "python3"
  },
  "language_info": {
   "codemirror_mode": {
    "name": "ipython",
    "version": 3
   },
   "file_extension": ".py",
   "mimetype": "text/x-python",
   "name": "python",
   "nbconvert_exporter": "python",
   "pygments_lexer": "ipython3",
   "version": "3.9.13"
  },
  "vscode": {
   "interpreter": {
    "hash": "e0a3784675675c50810c294a8917eebd4b598f1361fddf5095706d925015bb01"
   }
  }
 },
 "nbformat": 4,
 "nbformat_minor": 2
}
