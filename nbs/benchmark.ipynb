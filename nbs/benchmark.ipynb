{
 "cells": [
  {
   "cell_type": "code",
   "execution_count": null,
   "metadata": {},
   "outputs": [],
   "source": [
    "import pandas as pd\n",
    "import requests\n",
    "import io\n",
    "\n",
    "headers = {\n",
    "    'Host': 'seekingalpha.com',\n",
    "    'User-Agent': 'Mozilla/5.0 (Windows NT 10.0; Win64; x64; rv:108.0) Gecko/20100101 Firefox/108.0',\n",
    "    'Accept': '*/*',\n",
    "    'Accept-Language': 'en-GB,en;q=0.5',\n",
    "    'Accept-Encoding': 'gzip, deflate, br',\n",
    "    'Referer': 'https://seekingalpha.com/symbol/SP500TR/historical-price-quotes',\n",
    "}\n",
    "data = requests.get('https://seekingalpha.com/api/v3/historical_prices?filter[ticker][slug]=sp500tr&=&filter[as_of_date][gte]=Wed%20Oct%2026%201999&filter[as_of_date][lte]=Tue%20Nov%2029%202099&sort=as_of_date', headers = headers)\n",
    "df = pd.DataFrame(pd.DataFrame(data.json()['data'])['attributes'].values.tolist())\n",
    "df = df.rename(columns={'as_of_date':'date'})\n"
   ]
  }
 ],
 "metadata": {
  "kernelspec": {
   "display_name": "timeseries-pA2pD2pn-py3.9",
   "language": "python",
   "name": "python3"
  },
  "language_info": {
   "codemirror_mode": {
    "name": "ipython",
    "version": 3
   },
   "file_extension": ".py",
   "mimetype": "text/x-python",
   "name": "python",
   "nbconvert_exporter": "python",
   "pygments_lexer": "ipython3",
   "version": "3.9.13 | packaged by conda-forge | (main, May 27 2022, 16:50:36) [MSC v.1929 64 bit (AMD64)]"
  },
  "vscode": {
   "interpreter": {
    "hash": "e0a3784675675c50810c294a8917eebd4b598f1361fddf5095706d925015bb01"
   }
  }
 },
 "nbformat": 4,
 "nbformat_minor": 2
}
