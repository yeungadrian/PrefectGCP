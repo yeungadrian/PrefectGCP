{
 "cells": [
  {
   "cell_type": "code",
   "execution_count": null,
   "metadata": {},
   "outputs": [],
   "source": [
    "config = {\n",
    "    \"0P0000M4AU\": {\n",
    "        \"HSBC EURO STOXX 50 UCITS ETF\": \"IE00B4K6B022\",\n",
    "    },\n",
    "    \"0P0001912Y\": {\n",
    "        \"Lyxor Core UK Government Bond (DR) UCITS ETF\": \"LU1407892592\",\n",
    "    },\n",
    "    \"0P00009QEA\": {\n",
    "        \"iShares Core S&P 500 UCITS ETF\": \"IE0031442068\",\n",
    "    },\n",
    "    \"0P00000IQX\": {\n",
    "        \"iShares Core FTSE 100 UCITS ETF GBP\": \"IE0005042456\",\n",
    "    },\n",
    "    \"0P00019130\": {\n",
    "        \"Lyxor Core UK Government Inflation-Linked Bond (DR) UCITS ETF\": \"LU1407893301\",\n",
    "    },\n",
    "    \"0P0000LZZD\": {\n",
    "        \"iShares Core MSCI World UCITS ETF\": \"IE00B4L5Y983\",\n",
    "    },\n",
    "}\n"
   ]
  },
  {
   "cell_type": "code",
   "execution_count": null,
   "metadata": {},
   "outputs": [],
   "source": [
    "import pandas as pd\n",
    "import requests"
   ]
  },
  {
   "cell_type": "code",
   "execution_count": null,
   "metadata": {},
   "outputs": [],
   "source": [
    "import random\n",
    "import time"
   ]
  },
  {
   "cell_type": "code",
   "execution_count": null,
   "metadata": {},
   "outputs": [],
   "source": [
    "data = []\n",
    "data_points = []\n",
    "for i in config.keys():\n",
    "    url = (\n",
    "        \"https://lt.morningstar.com/api/rest.svc/timeseries_price/9vehuxllxs?\"\n",
    "        f\"currencyId=GBP&endDate=2022-12-24&forwardFill=true&frequency=daily&id={i}\"\n",
    "        \"&idType=Morningstar&outputType=json&startDate=1900-01-01\"\n",
    "    )\n",
    "    time.sleep(random.random() * 5)\n",
    "    df = requests.get(url)\n",
    "    df = pd.DataFrame(df.json()['TimeSeries']['Security'][0]['HistoryDetail'])\n",
    "    df = df.rename(columns = {'Value':i})\n",
    "    df = df.drop(columns='OriginalDate')\n",
    "    data_points.append(df.shape[0])\n",
    "    data.append(df)"
   ]
  },
  {
   "cell_type": "code",
   "execution_count": null,
   "metadata": {},
   "outputs": [],
   "source": [
    "etfs = data[0]\n",
    "for i, n in enumerate(data):\n",
    "    if i > 0:\n",
    "        etfs = etfs.merge(n,how='outer', on='EndDate')"
   ]
  },
  {
   "cell_type": "code",
   "execution_count": null,
   "metadata": {},
   "outputs": [],
   "source": [
    "etfs = etfs.sort_values(by='EndDate').reset_index(drop=True)"
   ]
  },
  {
   "cell_type": "code",
   "execution_count": null,
   "metadata": {},
   "outputs": [],
   "source": [
    "etfs = etfs.rename(columns={'EndDate': 'date'})"
   ]
  },
  {
   "cell_type": "code",
   "execution_count": null,
   "metadata": {},
   "outputs": [],
   "source": [
    "etfs[list(config.keys())] = etfs[list(config.keys())].astype(float)"
   ]
  },
  {
   "cell_type": "code",
   "execution_count": null,
   "metadata": {},
   "outputs": [],
   "source": [
    "etfs"
   ]
  },
  {
   "cell_type": "code",
   "execution_count": null,
   "metadata": {},
   "outputs": [],
   "source": [
    "pd.read_parquet('01_primary/fund_prices.parquet').merge(etfs, how='outer', on='date').to_parquet('01_primary/fund_prices.parquet')"
   ]
  },
  {
   "cell_type": "code",
   "execution_count": null,
   "metadata": {},
   "outputs": [],
   "source": [
    "pd.read_parquet('01_primary/fund_prices.parquet').merge(etfs, how='outer', on='date').info()"
   ]
  },
  {
   "cell_type": "code",
   "execution_count": null,
   "metadata": {},
   "outputs": [],
   "source": [
    "etfs.to_parquet()"
   ]
  },
  {
   "cell_type": "code",
   "execution_count": null,
   "metadata": {},
   "outputs": [],
   "source": [
    "fund_code_df = pd.read_parquet('data/fund_codes.parquet')"
   ]
  },
  {
   "cell_type": "code",
   "execution_count": null,
   "metadata": {},
   "outputs": [],
   "source": [
    "fund_codes =     {\n",
    "    \"0P0000M4AU\": \"HSBC EURO STOXX 50 UCITS ETF\",\n",
    "    \"0P0001912Y\": \"Lyxor Core UK Government Bond (DR) UCITS ETF\",\n",
    "    \"0P00009QEA\":\"iShares Core S&P 500 UCITS ETF\",\n",
    "    \"0P00000IQX\": \"iShares Core FTSE 100 UCITS ETF GBP\",\n",
    "    \"0P00019130\": \"Lyxor Core UK Government Inflation-Linked Bond (DR) UCITS ETF\",\n",
    "    \"0P0000LZZD\": \"iShares Core MSCI World UCITS ETF\"\n",
    "    }"
   ]
  },
  {
   "cell_type": "code",
   "execution_count": null,
   "metadata": {},
   "outputs": [],
   "source": [
    "fund_df = pd.DataFrame(fund_codes, index=['Company']).transpose().reset_index()"
   ]
  },
  {
   "cell_type": "code",
   "execution_count": null,
   "metadata": {},
   "outputs": [],
   "source": [
    "fund_df = fund_df.rename(columns={'index':'Code'})"
   ]
  },
  {
   "cell_type": "code",
   "execution_count": null,
   "metadata": {},
   "outputs": [],
   "source": [
    "pd.concat([fund_df,fund_code_df]).to_parquet('data/fund_codes.parquet')"
   ]
  },
  {
   "cell_type": "code",
   "execution_count": null,
   "metadata": {},
   "outputs": [],
   "source": [
    "config = {\n",
    "    \"indices\": {\n",
    "        \"0P0000M4AU\": {\n",
    "            \"HSBC EURO STOXX 50 UCITS ETF\": \"IE00B4K6B022\",\n",
    "        },\n",
    "        \"0P0001912Y\": {\n",
    "            \"Lyxor Core UK Government Bond (DR) UCITS ETF\": \"LU1407892592\",\n",
    "        },\n",
    "        \"0P0001F2LI\": {\n",
    "            \"L&G UK Equity UCITS ETF\": \"IE00BFXR5R48\",\n",
    "        },\n",
    "        \"0P0001F2MB\": {\n",
    "            \"L&G US Equity UCITS ETF\": \"IE00BFXR5Q31\",\n",
    "        },\n",
    "        \"0P00019130\": {\n",
    "            \"Lyxor Core UK Government Inflation-Linked Bond (DR) UCITS ETF\": \"LU1407893301\",\n",
    "        },\n",
    "        \"0P0001F2MA\": {\n",
    "            \"L&G Asia Pacific ex Japan Equity UCITS ETF\": \"IE00BFXR5W90\",\n",
    "        },\n",
    "        \"0P0001F2M9\": {\n",
    "            \"L&G Japan Equity UCITS ETF\": \"IE00BFXR5T61\",\n",
    "        },\n",
    "    }\n",
    "}\n",
    "\n",
    "fund_names = [ list(config[\"indices\"][i].keys())[0] for i in config[\"indices\"].keys()]"
   ]
  },
  {
   "cell_type": "code",
   "execution_count": null,
   "metadata": {},
   "outputs": [],
   "source": [
    "fund_names"
   ]
  },
  {
   "cell_type": "code",
   "execution_count": null,
   "metadata": {},
   "outputs": [],
   "source": [
    "fund_codes = list(config[\"indices\"].keys())\n",
    "fund_names = [ list(config[\"indices\"][i].keys())[0] for i in config[\"indices\"].keys()]\n",
    "import pandas as pd\n",
    "\n",
    "fund_df = pd.DataFrame(\n",
    "    {\n",
    "        \"Code\": fund_codes,\n",
    "        \"Company\": fund_names\n",
    "    }\n",
    ")"
   ]
  },
  {
   "cell_type": "code",
   "execution_count": null,
   "metadata": {},
   "outputs": [],
   "source": [
    "fund_df"
   ]
  },
  {
   "cell_type": "code",
   "execution_count": null,
   "metadata": {},
   "outputs": [],
   "source": []
  }
 ],
 "metadata": {
  "kernelspec": {
   "display_name": "timeseries-pA2pD2pn-py3.9",
   "language": "python",
   "name": "python3"
  },
  "language_info": {
   "codemirror_mode": {
    "name": "ipython",
    "version": 3
   },
   "file_extension": ".py",
   "mimetype": "text/x-python",
   "name": "python",
   "nbconvert_exporter": "python",
   "pygments_lexer": "ipython3",
   "version": "3.9.13"
  },
  "vscode": {
   "interpreter": {
    "hash": "e0a3784675675c50810c294a8917eebd4b598f1361fddf5095706d925015bb01"
   }
  }
 },
 "nbformat": 4,
 "nbformat_minor": 2
}
